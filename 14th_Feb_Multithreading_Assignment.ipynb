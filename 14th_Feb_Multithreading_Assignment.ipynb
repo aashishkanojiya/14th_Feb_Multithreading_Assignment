{
  "nbformat": 4,
  "nbformat_minor": 0,
  "metadata": {
    "colab": {
      "provenance": []
    },
    "kernelspec": {
      "name": "python3",
      "display_name": "Python 3"
    },
    "language_info": {
      "name": "python"
    }
  },
  "cells": [
    {
      "cell_type": "markdown",
      "source": [
        "Q1. What is multithreading in python? Why is it used? Name the module used to handle threads in python."
      ],
      "metadata": {
        "id": "NPvGwxdZ5Ffm"
      }
    },
    {
      "cell_type": "markdown",
      "source": [
        "Answer:-\n",
        "\n",
        "Multithreading in Python lets you run multiple threads at the same time within a single program. Think of threads as mini-programs that can do tasks simultaneously, which is super handy for things like downloading files or reading data while keeping your app responsive.\n",
        "\n",
        "Uses are:-\n",
        "\n",
        "1.Better Performance: It helps your program do more in less time, especially when waiting for things like network responses.\n",
        "\n",
        "2.Smooth User Experience: Your app can keep running smoothly while doing heavy lifting in the background.\n",
        "\n",
        "3.Easier Task Management: It simplifies handling multiple tasks that need to happen at once.\n",
        "\n",
        "The Module is Used to Handle Threads are as follows:-\n",
        "\n",
        "1.Threading Module: Python provides a built-in module called threading that allows you to create and manage threads easily. This module includes various classes and functions to work with threads, such as:\n",
        "\n",
        "2.Creating Threads: You can create a thread by instantiating the Thread class and specifying a target function that the thread will execute.\n",
        "\n",
        "3.Synchronization Tools: The threading module also provides synchronization primitives like Lock, Event, Condition, and Semaphore to help manage access to shared resources and avoid race conditions."
      ],
      "metadata": {
        "id": "-59jLCpg5Gjc"
      }
    },
    {
      "cell_type": "markdown",
      "source": [
        "Here’s a simple example demonstrating how to create and start a thread using the threading module:"
      ],
      "metadata": {
        "id": "oYd3L7w374Ez"
      }
    },
    {
      "cell_type": "code",
      "source": [
        "import threading\n",
        "import time\n",
        "\n",
        "def task():\n",
        "    print(\"Task starts\")\n",
        "    time.sleep(2)\n",
        "    print(\"Task ends\")\n",
        "\n",
        "t = threading.Thread(target=task)\n",
        "t.start()\n",
        "t.join()\n",
        "print(\"Main program ends\")"
      ],
      "metadata": {
        "colab": {
          "base_uri": "https://localhost:8080/"
        },
        "id": "GN_UBe8t7GBy",
        "outputId": "476fe95c-00b6-44e2-d1fc-9714d371905b"
      },
      "execution_count": 1,
      "outputs": [
        {
          "output_type": "stream",
          "name": "stdout",
          "text": [
            "Task starts\n",
            "Task ends\n",
            "Main program ends\n"
          ]
        }
      ]
    },
    {
      "cell_type": "markdown",
      "source": [
        "Q2. Why threading module used? Write the use of the following functions\n",
        "\n",
        " 1.activeCount()\n",
        "\n",
        " 2.currentThread()\n",
        "\n",
        " 3.enumerate()"
      ],
      "metadata": {
        "id": "T_StVbBE79-0"
      }
    },
    {
      "cell_type": "markdown",
      "source": [
        "Answer:-\n",
        "\n",
        "The threading module in Python is great for running multiple tasks at the same time. It helps make programs faster and more efficient, especially when dealing with tasks that involve waiting, like downloading files or reading from a database.\n",
        "\n",
        "Functions in the threading Module\n",
        "\n",
        "1.activeCount():\n",
        "\n",
        "i.Tells you how many threads are currently running.\n",
        "\n",
        "ii.Use this when you want to check how many threads are alive, which can help you manage resources better.\n"
      ],
      "metadata": {
        "id": "0U9d4SnA8EG-"
      }
    },
    {
      "cell_type": "code",
      "source": [
        "import threading\n",
        "\n",
        "print(\"Active threads:\", threading.activeCount())"
      ],
      "metadata": {
        "colab": {
          "base_uri": "https://localhost:8080/"
        },
        "id": "df4dqYKu8UoG",
        "outputId": "9bc77679-239b-4758-d160-0fef39c0e784"
      },
      "execution_count": 4,
      "outputs": [
        {
          "output_type": "stream",
          "name": "stdout",
          "text": [
            "Active threads: 5\n"
          ]
        },
        {
          "output_type": "stream",
          "name": "stderr",
          "text": [
            "<ipython-input-4-95f5ecccbf26>:3: DeprecationWarning: activeCount() is deprecated, use active_count() instead\n",
            "  print(\"Active threads:\", threading.activeCount())\n"
          ]
        }
      ]
    },
    {
      "cell_type": "markdown",
      "source": [
        "2.currentThread():\n",
        "\n",
        "i.Gives you the thread that’s currently executing.\n",
        "\n",
        "ii.This is useful when you want to know which thread is running a specific part of your code, especially for logging or debugging.\n"
      ],
      "metadata": {
        "id": "VXmOdl0g9RZd"
      }
    },
    {
      "cell_type": "code",
      "source": [
        "import threading\n",
        "\n",
        "current_thread = threading.currentThread()\n",
        "print(\"Current thread:\", current_thread.name)"
      ],
      "metadata": {
        "colab": {
          "base_uri": "https://localhost:8080/"
        },
        "id": "DZOasMHf8gmo",
        "outputId": "20eeba42-4ab4-4463-d4f1-3a801612baaf"
      },
      "execution_count": 5,
      "outputs": [
        {
          "output_type": "stream",
          "name": "stdout",
          "text": [
            "Current thread: MainThread\n"
          ]
        },
        {
          "output_type": "stream",
          "name": "stderr",
          "text": [
            "<ipython-input-5-1f3035d4a160>:3: DeprecationWarning: currentThread() is deprecated, use current_thread() instead\n",
            "  current_thread = threading.currentThread()\n"
          ]
        }
      ]
    },
    {
      "cell_type": "markdown",
      "source": [
        "3.enumerate():\n",
        "\n",
        "i.Returns a list of all the threads that are currently alive.\n",
        "\n",
        "ii.Use this to see all active threads, which can help you keep track of what’s happening in your program.\n"
      ],
      "metadata": {
        "id": "IHtw_4WF9c0q"
      }
    },
    {
      "cell_type": "code",
      "source": [
        "import threading\n",
        "\n",
        "threads = threading.enumerate()\n",
        "print(\"Active threads:\", threads)"
      ],
      "metadata": {
        "colab": {
          "base_uri": "https://localhost:8080/"
        },
        "id": "d6K7MU319kE1",
        "outputId": "6854ab57-026d-484d-cd30-d84e6addcf7b"
      },
      "execution_count": 6,
      "outputs": [
        {
          "output_type": "stream",
          "name": "stdout",
          "text": [
            "Active threads: [<_MainThread(MainThread, started 133402720718848)>, <Thread(Thread-2 (_thread_main), started daemon 133402556597824)>, <Heartbeat(Thread-3, started daemon 133402548205120)>, <ParentPollerUnix(Thread-1, started daemon 133402501051968)>, <Thread(_colab_inspector_thread, started daemon 133401751320128)>]\n"
          ]
        }
      ]
    },
    {
      "cell_type": "markdown",
      "source": [
        "In Summary\n",
        "\n",
        "The threading module is useful for managing multiple tasks at once.\n",
        "\n",
        "activeCount() shows how many threads are running.\n",
        "\n",
        "currentThread() tells you which thread is executing.\n",
        "\n",
        "enumerate() gives you a list of all active threads."
      ],
      "metadata": {
        "id": "1JpgdqgF_EQ7"
      }
    },
    {
      "cell_type": "markdown",
      "source": [
        "Q3. Explain the following functions\n",
        "\n",
        "1.run()\n",
        "\n",
        "2.start()\n",
        "\n",
        "3.join()\n",
        "\n",
        "4.isAlive()"
      ],
      "metadata": {
        "id": "DYA50ujC_TrD"
      }
    },
    {
      "cell_type": "markdown",
      "source": [
        "Answer:-\n",
        "\n",
        "1.run() - The standard run() method invokes the callable object passed to the object’s constructor as the target argument, if any, with positional and keyword arguments taken from the args and kwargs arguments, respectively."
      ],
      "metadata": {
        "id": "lzz5w_KY_nxi"
      }
    },
    {
      "cell_type": "code",
      "source": [
        "# Example 1 run()\n",
        "t = threading.Thread(target=print,args=['Hello World','1'])\n",
        "t.run()\n",
        "logging.info('run() Command executed')"
      ],
      "metadata": {
        "colab": {
          "base_uri": "https://localhost:8080/"
        },
        "id": "cBFRaRPu_lNR",
        "outputId": "9bc44277-8be7-4e1b-bdf7-35ad3bfc09a3"
      },
      "execution_count": 7,
      "outputs": [
        {
          "output_type": "stream",
          "name": "stdout",
          "text": [
            "Hello World 1\n"
          ]
        }
      ]
    },
    {
      "cell_type": "markdown",
      "source": [
        "2.start() - Start the thread’s activity. It must be called at most once per thread object. It arranges for the object’s run() method to be invoked in a separate thread of control.This method will raise a RuntimeError if called more than once on the same thread object.\n",
        "\n",
        "3.join() - Wait until the thread terminates. This blocks the calling thread until the thread whose join() method is called terminates – either normally or through an unhandled exception – or until the optional timeout occurs."
      ],
      "metadata": {
        "id": "tyv_R1Xy_vxd"
      }
    },
    {
      "cell_type": "code",
      "source": [
        "# Example 2,3 start() and join()\n",
        "# function to create threads\n",
        "from time import sleep\n",
        "def counter_function(arg):\n",
        "    for i in range(arg):\n",
        "        print(f\"Counter Value : {i}\")\n",
        "        logging.info(f\"Counter Value : {i}\")\n",
        "    # Wait for 1 second\n",
        "    sleep(1)\n",
        "\n",
        "thread2 = threading.Thread(target=counter_function,args=(10,))\n",
        "thread2.start() # Starts executing the threads seperately\n",
        "thread2.join() # Join will wait until the thread is terminated\n",
        "print('Thread Finished')\n",
        "logging.info('Thread Finished')"
      ],
      "metadata": {
        "colab": {
          "base_uri": "https://localhost:8080/"
        },
        "id": "MtgTuONOBAJC",
        "outputId": "266f852f-a3b0-4e9d-861a-b36f0e679ba6"
      },
      "execution_count": 8,
      "outputs": [
        {
          "output_type": "stream",
          "name": "stdout",
          "text": [
            "Counter Value : 0\n",
            "Counter Value : 1\n",
            "Counter Value : 2\n",
            "Counter Value : 3\n",
            "Counter Value : 4\n",
            "Counter Value : 5\n",
            "Counter Value : 6\n",
            "Counter Value : 7\n",
            "Counter Value : 8\n",
            "Counter Value : 9\n",
            "Thread Finished\n"
          ]
        }
      ]
    },
    {
      "cell_type": "markdown",
      "source": [
        "4.is_alive() - (isAlive is deprecated latest function - is_alive) Return whether the thread is alive. This method returns True just before the run() method starts until just after the run() method terminates"
      ],
      "metadata": {
        "id": "Q6ZcCBX6BDa5"
      }
    },
    {
      "cell_type": "code",
      "source": [
        "print('Check for thread2 is alive : ',thread2.is_alive())\n",
        "logging.info(f'thread 2 is alive : {thread2.is_alive()}')\n"
      ],
      "metadata": {
        "colab": {
          "base_uri": "https://localhost:8080/"
        },
        "id": "-hUV4XazBLi7",
        "outputId": "a4d03f09-91b1-439e-a353-7b1c905f4388"
      },
      "execution_count": 9,
      "outputs": [
        {
          "output_type": "stream",
          "name": "stdout",
          "text": [
            "Check for thread2 is alive :  False\n"
          ]
        }
      ]
    },
    {
      "cell_type": "markdown",
      "source": [
        "Q4. Write a python program to create two threads. Thread one must print the list of squares and thread\n",
        "two must print the list of cubes."
      ],
      "metadata": {
        "id": "Pcbq7a4WBDW9"
      }
    },
    {
      "cell_type": "markdown",
      "source": [
        "Answer:-"
      ],
      "metadata": {
        "id": "ooQLmruZBRZ7"
      }
    },
    {
      "cell_type": "code",
      "source": [
        "import threading\n",
        "\n",
        "def print_squares():\n",
        "    for i in range(1, 11):\n",
        "        print(f\"Square of {i} = {i**2}\")\n",
        "\n",
        "def print_cubes():\n",
        "    for i in range(1, 11):\n",
        "        print(f\"Cube of {i} = {i**3}\")\n",
        "\n",
        "t1 = threading.Thread(target=print_squares)\n",
        "t2 = threading.Thread(target=print_cubes)\n",
        "\n",
        "t1.start()\n",
        "t2.start()\n",
        "\n",
        "\n",
        "t1.join()\n",
        "t2.join()"
      ],
      "metadata": {
        "colab": {
          "base_uri": "https://localhost:8080/"
        },
        "id": "bt4ivYroBe9S",
        "outputId": "04b5e0ac-5a43-4359-d54c-9d1635e1bbfc"
      },
      "execution_count": 10,
      "outputs": [
        {
          "output_type": "stream",
          "name": "stdout",
          "text": [
            "Square of 1 = 1\n",
            "Square of 2 = 4\n",
            "Square of 3 = 9\n",
            "Square of 4 = 16\n",
            "Square of 5 = 25\n",
            "Square of 6 = 36\n",
            "Square of 7 = 49\n",
            "Square of 8 = 64\n",
            "Square of 9 = 81\n",
            "Square of 10 = 100\n",
            "Cube of 1 = 1\n",
            "Cube of 2 = 8\n",
            "Cube of 3 = 27\n",
            "Cube of 4 = 64\n",
            "Cube of 5 = 125\n",
            "Cube of 6 = 216\n",
            "Cube of 7 = 343\n",
            "Cube of 8 = 512\n",
            "Cube of 9 = 729\n",
            "Cube of 10 = 1000\n"
          ]
        }
      ]
    },
    {
      "cell_type": "markdown",
      "source": [
        "Q5. State advantages and disadvantages of multithreading."
      ],
      "metadata": {
        "id": "DBTvr6vbBmw9"
      }
    },
    {
      "cell_type": "markdown",
      "source": [
        "Answer:-\n",
        "\n",
        "Multithreading can be a powerful tool in programming, especially for improving the performance and responsiveness of applications. However, it also comes with its own set of challenges. Here are some advantages and disadvantages of multithreading:\n",
        "\n",
        "Advantages of Multithreading\n",
        "\n",
        "1.Better Performance:\n",
        "\n",
        "Multithreading can make your programs run faster, especially on computers with multiple CPU cores. It allows different parts of a program to run at the same time.\n",
        "\n",
        "2.Responsive Applications:\n",
        "\n",
        "If you have a program with a user interface, multithreading helps keep it responsive. For example, while one thread is busy processing data, another can still handle user inputs, so the app doesn’t freeze.\n",
        "\n",
        "3.Resource Sharing:\n",
        "\n",
        "Threads within the same process can easily share data and resources. This is simpler than having separate processes that need to communicate with each other.\n",
        "\n",
        "4.Easier to Manage Certain Tasks:\n",
        "\n",
        "Some tasks, like handling multiple network requests, can be more straightforward with threads. You can have one thread for each request, making it easier to manage.\n",
        "\n",
        "5.Lower Overhead:\n",
        "\n",
        "Threads are generally lighter than processes, which means they use less memory and resources. This can lead to better performance in some cases.\n",
        "\n",
        "Disadvantages of Multithreading\n",
        "\n",
        "1.Complexity:\n",
        "\n",
        "Writing multithreaded programs can get tricky. You have to deal with synchronization and make sure that threads don’t interfere with each other, which can lead to bugs.\n",
        "\n",
        "2.Race Conditions:\n",
        "\n",
        "When multiple threads try to access shared data at the same time, it can cause unexpected results. This is known as a race condition, and it can be hard to debug.\n",
        "\n",
        "3.Deadlocks:\n",
        "\n",
        "If threads are waiting on each other to release resources, they can end up in a deadlock, where none of them can proceed. This can freeze your application.\n",
        "\n",
        "4.Overhead:\n",
        "\n",
        "Even though threads are lighter than processes, there’s still some overhead involved in managing them. Switching between threads can also slow things down if not handled properly.\n",
        "\n",
        "5.Global Interpreter Lock (GIL):\n",
        "\n",
        "In Python, the GIL means that only one thread can execute Python code at a time. This can limit the benefits of multithreading for CPU-bound tasks, making it less effective in some scenarios."
      ],
      "metadata": {
        "id": "pBFKtXVZBnOr"
      }
    },
    {
      "cell_type": "markdown",
      "source": [
        "Q6. Explain deadlocks and race conditions."
      ],
      "metadata": {
        "id": "fL3nARXuCjGK"
      }
    },
    {
      "cell_type": "markdown",
      "source": [
        "Answer:-\n",
        "\n",
        "Deadlocks occur when two or more threads are waiting for each other to release resources that they need in order to proceed. Deadlocks can occur when a thread holds a resource and then tries to acquire another resource that is held by another thread, which is also waiting for the first thread to release the resource it holds. This can result in a situation where both threads are waiting for each other to release the resources they need, and neither can proceed. Deadlocks can be difficult to detect and resolve, as they can be intermittent and dependent on timing and scheduling.\n",
        "\n",
        "Race conditions occur when two or more threads access a shared resource simultaneously and the behavior of the program depends on the order in which the threads execute. Race conditions can occur when a shared resource is not properly synchronized, allowing multiple threads to access it simultaneously. This can lead to unexpected and unpredictable behavior, as the behavior of the program depends on the timing and scheduling of the threads. Race conditions can be difficult to detect and reproduce, as they can be dependent on timing and other factors."
      ],
      "metadata": {
        "id": "WlBsYkNcCjjy"
      }
    }
  ]
}